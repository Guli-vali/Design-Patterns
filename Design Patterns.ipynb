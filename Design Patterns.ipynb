{
 "cells": [
  {
   "cell_type": "code",
   "execution_count": 13,
   "metadata": {},
   "outputs": [],
   "source": [
    "from abc import ABCMeta, abstractmethod\n",
    "\n",
    "# Factory Method\n",
    "\n",
    "class Section(metaclass=ABCMeta):\n",
    "    @abstractmethod\n",
    "    def describe(self):\n",
    "        pass\n",
    "\n",
    "class PersonalSection(Section):\n",
    "    def describe(self):\n",
    "        print(\"Personal Section\")\n",
    "        \n",
    "class AlbumSection(Section):\n",
    "    def describe(self):\n",
    "        print(\"Album Section\")\n",
    "\n",
    "class PatentSection(Section):\n",
    "    def describe(self):\n",
    "        print(\"Patent Section\")\n",
    "\n",
    "class PublicationSection(Section):\n",
    "    def describe(self):\n",
    "        print(\"Publication Section\")"
   ]
  },
  {
   "cell_type": "code",
   "execution_count": 22,
   "metadata": {},
   "outputs": [
    {
     "data": {
      "text/plain": [
       "[<__main__.PersonalSection at 0x111907710>,\n",
       " <__main__.PatentSection at 0x111907748>,\n",
       " <__main__.PublicationSection at 0x111907780>]"
      ]
     },
     "execution_count": 22,
     "metadata": {},
     "output_type": "execute_result"
    }
   ],
   "source": [
    "# Creator\n",
    "\n",
    "class Profile(metaclass=ABCMeta):\n",
    "    def __init__(self):\n",
    "        self.sections = []\n",
    "        self.createProfile()\n",
    "        \n",
    "    @abstractmethod\n",
    "    def createProfile(self): # factory method\n",
    "        pass\n",
    "    \n",
    "    def getSections(self):\n",
    "        return self.sections\n",
    "\n",
    "    def addSections(self, section):\n",
    "        self.sections.append(section)\n",
    "\n",
    "class linkedin(Profile):\n",
    "    def createProfile(self):\n",
    "        self.addSections(PersonalSection())\n",
    "        self.addSections(PatentSection())\n",
    "        self.addSections(PublicationSection())\n",
    "\n",
    "class facebook(Profile):\n",
    "       def createProfile(self):\n",
    "        self.addSections(PersonalSection())\n",
    "        self.addSections(AlbumSection())\n",
    "\n",
    "l = linkedin()\n",
    "l.getSections()"
   ]
  },
  {
   "cell_type": "code",
   "execution_count": 14,
   "metadata": {},
   "outputs": [
    {
     "name": "stdout",
     "output_type": "stream",
     "text": [
      "Object created <__main__.Singleton object at 0x10f4af588>\n"
     ]
    }
   ],
   "source": [
    "# Singleton/Monostate/Borg\n",
    "\n",
    "class Singleton(object):\n",
    "    def __new__(cls):\n",
    "        if not hasattr(cls, 'instance'):\n",
    "            cls.instance = super(Singleton, cls).__new__(cls)\n",
    "        return cls.instance\n",
    "\n",
    "s = Singleton()\n",
    "print(\"Object created\", s)"
   ]
  },
  {
   "cell_type": "code",
   "execution_count": 3,
   "metadata": {},
   "outputs": [
    {
     "name": "stdout",
     "output_type": "stream",
     "text": [
      " __init__ method called..\n",
      " __init__ method called..\n",
      "Object created <__main__.Singleton object at 0x1047b66a0>\n",
      "Instance already created: <__main__.Singleton object at 0x1047b66a0>\n"
     ]
    }
   ],
   "source": [
    "# Lazy\n",
    "class Singleton:\n",
    "    __instance = None\n",
    "    def __init__(self):\n",
    "        if not Singleton.__instance:\n",
    "            print(\" __init__ method called..\")\n",
    "        else:\n",
    "            print(\"Instance already created:\", self.getInstance())\n",
    "    @classmethod\n",
    "    def getInstance(cls):\n",
    "        if not cls.__instance:\n",
    "            cls.__instance = Singleton()\n",
    "        return cls.__instance\n",
    "\n",
    "s = Singleton() ## class initialized, but object not created \n",
    "print(\"Object created\", Singleton.getInstance()) # Object gets created here\n",
    "s1 = Singleton() ## instance already created"
   ]
  },
  {
   "cell_type": "code",
   "execution_count": 9,
   "metadata": {},
   "outputs": [
    {
     "name": "stdout",
     "output_type": "stream",
     "text": [
      "{'x': 1}\n",
      "{'x': 1}\n",
      "Borg Object 'b':  <__main__.Borg object at 0x1047b6be0>\n",
      "Borg Object 'b1':  <__main__.Borg object at 0x10477b2b0>\n",
      "Object State 'b': {'1': '2', 'x': 4}\n",
      "Object State 'b1': {'1': '2', 'x': 4}\n"
     ]
    }
   ],
   "source": [
    "# Monostate/Borg\n",
    "\n",
    "class Borg:\n",
    "   __shared_state = {\"1\": \"2\"}\n",
    "   def __init__(self):\n",
    "      self.x = 1\n",
    "      self.__dict__ = self.__shared_state\n",
    "      pass\n",
    "b = Borg()\n",
    "b1 = Borg()\n",
    "b.x = 4\n",
    "print(\"Borg Object 'b': \", b) ## b and b1 are distinct objects\n",
    "print(\"Borg Object 'b1': \", b1)\n",
    "print(\"Object State 'b':\", b.__dict__)## b and b1 share same state\n",
    "print(\"Object State 'b1':\", b1.__dict__)"
   ]
  },
  {
   "cell_type": "code",
   "execution_count": 4,
   "metadata": {},
   "outputs": [],
   "source": [
    "# Facade\n",
    "\n",
    "class EventManager(object):\n",
    "    def __init__(self):\n",
    "        print(\"Event Manager:: Let me talk to the folks\\n\")\n",
    "\n",
    "    def arrange(self): \n",
    "        self.hotelier = Hotelier() \n",
    "        self.hotelier.bookHotel()\n",
    "        \n",
    "        self.florist = Florist() \n",
    "        self.florist.setFlowerRequirements()\n",
    "        \n",
    "        self.caterer = Caterer() \n",
    "        self.caterer.setCuisine()\n",
    "        \n",
    "        self.musician = Musician() \n",
    "        self.musician.setMusicType()\n"
   ]
  },
  {
   "cell_type": "code",
   "execution_count": 23,
   "metadata": {},
   "outputs": [
    {
     "name": "stdout",
     "output_type": "stream",
     "text": [
      "Current: off  => switched to new state on\n",
      "Current: on  => switched to new state off\n",
      "Current: off  => switched to new state on\n",
      "Current: on  => switched to new state suspend\n",
      "Current: suspend  => switching to hibernate not possible.\n",
      "Current: suspend  => switched to new state on\n",
      "Current: on  => switched to new state off\n"
     ]
    }
   ],
   "source": [
    "class ComputerState(object):\n",
    "    name = \"state\"\n",
    "    allowed = []\n",
    "    \n",
    "    def switch(self, state):\n",
    "        if state.name in self.allowed:\n",
    "            print('Current:',self,' => switched to new state',state.name)\n",
    "            self.__class__ = state\n",
    "        else:\n",
    "            print('Current:',self,' => switching to',state.name,'not possible.')\n",
    "    \n",
    "    def __str__(self):\n",
    "        return self.name\n",
    "\n",
    "\n",
    "class Off(ComputerState):\n",
    "    name = \"off\"\n",
    "    allowed = ['on']\n",
    "\n",
    "class On(ComputerState):\n",
    "    name = \"on\"\n",
    "    allowed = ['off','suspend','hibernate']\n",
    "\n",
    "class Suspend(ComputerState):\n",
    "    name = \"suspend\"\n",
    "    allowed = ['on']\n",
    "\n",
    "class Hibernate(ComputerState):\n",
    "    name = \"hibernate\"\n",
    "    allowed = ['on']\n",
    "\n",
    "\n",
    "class Computer(object):\n",
    "    def __init__(self, model='HP'):\n",
    "        self.model = model\n",
    "        self.state = Off()\n",
    "    \n",
    "    def change(self, state):\n",
    "        self.state.switch(state)\n",
    "\n",
    "\n",
    "if __name__ == \"__main__\":\n",
    "    comp = Computer()\n",
    "    # Switch on\n",
    "    comp.change(On)\n",
    "    # Switch off\n",
    "    comp.change(Off)\n",
    "    \n",
    "    # Switch on again\n",
    "    comp.change(On)\n",
    "    # Suspend\n",
    "    comp.change(Suspend)\n",
    "    # Try to hibernate - cannot!\n",
    "    comp.change(Hibernate)\n",
    "    # switch on back\n",
    "    comp.change(On)\n",
    "    # Finally off\n",
    "    comp.change(Off)"
   ]
  },
  {
   "cell_type": "code",
   "execution_count": null,
   "metadata": {},
   "outputs": [],
   "source": []
  }
 ],
 "metadata": {
  "kernelspec": {
   "display_name": "Python 3",
   "language": "python",
   "name": "python3"
  },
  "language_info": {
   "codemirror_mode": {
    "name": "ipython",
    "version": 3
   },
   "file_extension": ".py",
   "mimetype": "text/x-python",
   "name": "python",
   "nbconvert_exporter": "python",
   "pygments_lexer": "ipython3",
   "version": "3.9.0"
  }
 },
 "nbformat": 4,
 "nbformat_minor": 4
}
